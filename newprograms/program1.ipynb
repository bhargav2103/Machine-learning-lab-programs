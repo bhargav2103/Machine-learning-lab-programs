{
 "cells": [
  {
   "cell_type": "code",
   "execution_count": 6,
   "metadata": {},
   "outputs": [
    {
     "name": "stdout",
     "output_type": "stream",
     "text": [
      "<_csv.reader object at 0x01057A30>\n",
      "\n",
      "The given training examples are:\n",
      "['Sky', 'AirTemp', 'Humidity', 'Wind', 'Water', 'Forecast', 'EnjoySport']\n",
      "['Sunny', 'Hot', 'Normal', 'Weak', 'Warm', 'Same', 'No']\n",
      "['Rainy', 'Cold', 'High', 'Strong', 'Warm', 'Change', 'No']\n",
      "['Sunny', 'Hot', 'High', 'Strong', 'Cool', 'Change', 'Yes']\n",
      "['Rainy', 'Cold', 'High', 'Weak', 'Cool', 'Change', 'Yes']\n",
      "['Rainy', 'Cold', 'Normal', 'Strong', 'Warm', 'Same', 'No']\n",
      "['Sunny', 'Hot', 'High', 'Weak', 'Cool', 'Change', 'Yes']\n",
      "['Rainy', 'Cold', 'High', 'Strong', 'Cool', 'Change', 'Yes']\n",
      "['', '', '', '', '', '', '']\n",
      "['', '', '', '', '', '', '']\n",
      "['', '', '', '', '', '', '']\n",
      "['', '', '', '', '', '', '']\n",
      "['', '', '', '', '', '', '']\n",
      "['', '', '', '', '', '', '']\n",
      "['', '', '', '', '', '', '']\n",
      "\n",
      "The positive examples are:\n",
      "['Sunny', 'Hot', 'High', 'Strong', 'Cool', 'Change', 'Yes']\n",
      "['Rainy', 'Cold', 'High', 'Weak', 'Cool', 'Change', 'Yes']\n",
      "['Sunny', 'Hot', 'High', 'Weak', 'Cool', 'Change', 'Yes']\n",
      "['Rainy', 'Cold', 'High', 'Strong', 'Cool', 'Change', 'Yes']\n",
      "\n",
      "\n",
      "The steps of the Find-s algorithm are\n",
      " ['%', '%', '%', '%', '%', '%']\n",
      "['Sunny', 'Hot', 'High', 'Strong', 'Cool', 'Change']\n",
      "['?', '?', 'High', '?', 'Cool', 'Change']\n",
      "['?', '?', 'High', '?', 'Cool', 'Change']\n",
      "['?', '?', 'High', '?', 'Cool', 'Change']\n",
      "\n",
      "The maximally specific Find-s hypothesis for the given training examples is\n",
      "['?', '?', 'High', '?', 'Cool', 'Change']\n"
     ]
    }
   ],
   "source": [
    "import csv\n",
    "hypo=['%','%','%','%','%','%'];\n",
    "with open('finds.csv') as csv_file:\n",
    "    readcsv = csv.reader(csv_file, delimiter=',')\n",
    "    print(readcsv)\n",
    "    data = []\n",
    "    print(\"\\nThe given training examples are:\")\n",
    "    for row in readcsv:\n",
    "        print(row)\n",
    "        if row[len(row)-1].upper() == \"YES\":\n",
    "            data.append(row)\n",
    "print(\"\\nThe positive examples are:\");\n",
    "for x in data:\n",
    "    print(x);\n",
    "print(\"\\n\");\n",
    "TotalExamples = len(data);\n",
    "i=0;\n",
    "j=0;\n",
    "k=0;\n",
    "print(\"The steps of the Find-s algorithm are\\n\",hypo);\n",
    "list = [];\n",
    "p=0;\n",
    "d=len(data[p])-1;\n",
    "for j in range(d):\n",
    "    list.append(data[i][j]);\n",
    "hypo=list;\n",
    "i=1;\n",
    "for i in range(TotalExamples):\n",
    "    for k in range(d):\n",
    "        if hypo[k]!=data[i][k]:\n",
    "            hypo[k]='?';\n",
    "            k=k+1;\n",
    "        else:\n",
    "            hypo[k];\n",
    "    print(hypo);\n",
    "i=i+1;\n",
    "print(\"\\nThe maximally specific Find-s hypothesis for the given training examples is\");\n",
    "list=[];\n",
    "for i in range(d):\n",
    "    list.append(hypo[i]);\n",
    "print(list);"
   ]
  },
  {
   "cell_type": "code",
   "execution_count": null,
   "metadata": {},
   "outputs": [],
   "source": []
  }
 ],
 "metadata": {
  "kernelspec": {
   "display_name": "Python 3",
   "language": "python",
   "name": "python3"
  },
  "language_info": {
   "codemirror_mode": {
    "name": "ipython",
    "version": 3
   },
   "file_extension": ".py",
   "mimetype": "text/x-python",
   "name": "python",
   "nbconvert_exporter": "python",
   "pygments_lexer": "ipython3",
   "version": "3.7.0"
  }
 },
 "nbformat": 4,
 "nbformat_minor": 2
}

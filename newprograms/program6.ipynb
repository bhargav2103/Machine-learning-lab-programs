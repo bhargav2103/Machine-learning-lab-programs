{
 "cells": [
  {
   "cell_type": "code",
   "execution_count": 3,
   "metadata": {},
   "outputs": [
    {
     "name": "stdout",
     "output_type": "stream",
     "text": [
      "2333\n",
      "1554\n",
      "['comp.os.ms-windows.misc', 'misc.forsale', 'sci.space', 'talk.politics.mideast']\n",
      "From: jac2y@Virginia.EDU (\"Jonathan A. Cook <jac2y>\")\n",
      "Subject: Stuff for sale- music\n",
      "Organization: University of Virginia\n",
      "Lines: 19\n",
      "\n",
      "CDs ($9 ea inc shipping)\n",
      "---\n",
      "Jesus Jones, DOUBT\n",
      "Residents, HEAVEN?\n",
      "REM, DOCUMENT\n",
      "Nymphs, SAD AND DAMNED single\n",
      "\n",
      "Tapes\n",
      "-----\n",
      "Robert Plant, all solo stuff\n",
      "Led Zeppelin IV\n",
      "\n",
      "Tshirts\n",
      "-------\n",
      "Robert Plant, Manic Nirvana tour\n",
      "Led Zeppelin, Symbols/Swansong black\n",
      "Bob Dylan, 1990 tour tie-dye\n",
      "\n",
      "All offers accepted.  Mail to jac2y@virginia.edu\n",
      "\n",
      "1\n"
     ]
    },
    {
     "data": {
      "text/plain": [
       "(2333, 67419)"
      ]
     },
     "execution_count": 3,
     "metadata": {},
     "output_type": "execute_result"
    }
   ],
   "source": [
    "from sklearn.datasets import fetch_20newsgroups\n",
    "from sklearn.metrics import confusion_matrix\n",
    "from sklearn.metrics import classification_report\n",
    "import numpy as np\n",
    "#categories = ['alt.atheism', 'soc.religion.christian','comp.graphics', 'sci.med']\n",
    "categories = ['comp.os.ms-windows.misc','misc.forsale','sci.space','talk.politics.mideast']\n",
    "twenty_train = fetch_20newsgroups(subset='train',categories=categories,shuffle=True)\n",
    "twenty_test = fetch_20newsgroups(subset='test',categories=categories,shuffle=True)\n",
    "print(len(twenty_train.data))\n",
    "print(len(twenty_test.data))\n",
    "print(twenty_train.target_names)\n",
    "print(\"\\n\".join(twenty_train.data[0].split(\"\\n\")))\n",
    "print(twenty_train.target[0])\n",
    "from sklearn.feature_extraction.text import CountVectorizer\n",
    "count_vect = CountVectorizer()\n",
    "X_train_tf = count_vect.fit_transform(twenty_train.data)\n",
    "from sklearn.feature_extraction.text import TfidfTransformer\n",
    "tfidf_transformer = TfidfTransformer()\n",
    "X_train_tfidf = tfidf_transformer.fit_transform(X_train_tf)\n",
    "X_train_tfidf.shape\n"
   ]
  },
  {
   "cell_type": "code",
   "execution_count": 4,
   "metadata": {},
   "outputs": [
    {
     "name": "stdout",
     "output_type": "stream",
     "text": [
      "Accuracy: 0.9382239382239382\n",
      "                         precision    recall  f1-score   support\n",
      "\n",
      "comp.os.ms-windows.misc       0.94      0.90      0.92       394\n",
      "           misc.forsale       0.99      0.90      0.94       390\n",
      "              sci.space       0.91      0.97      0.94       394\n",
      "  talk.politics.mideast       0.91      0.99      0.95       376\n",
      "\n",
      "              micro avg       0.94      0.94      0.94      1554\n",
      "              macro avg       0.94      0.94      0.94      1554\n",
      "           weighted avg       0.94      0.94      0.94      1554\n",
      "\n",
      "confusion matrix is \n",
      " [[353   1  24  16]\n",
      " [ 16 350  12  12]\n",
      " [  4   1 382   7]\n",
      " [  2   0   1 373]]\n"
     ]
    }
   ],
   "source": [
    "from sklearn.naive_bayes import MultinomialNB\n",
    "from sklearn.metrics import accuracy_score\n",
    "from sklearn import metrics\n",
    "mod = MultinomialNB()\n",
    "mod.fit(X_train_tfidf, twenty_train.target)\n",
    "X_test_tf = count_vect.transform(twenty_test.data)\n",
    "X_test_tfidf = tfidf_transformer.transform(X_test_tf)\n",
    "predicted = mod.predict(X_test_tfidf)\n",
    "print(\"Accuracy:\", accuracy_score(twenty_test.target, predicted))\n",
    "print(classification_report(twenty_test.target,predicted,target_names=twenty_test.target_names))\n",
    "print(\"confusion matrix is \\n\",metrics.confusion_matrix(twenty_test.target, predicted))"
   ]
  },
  {
   "cell_type": "code",
   "execution_count": null,
   "metadata": {},
   "outputs": [],
   "source": []
  }
 ],
 "metadata": {
  "kernelspec": {
   "display_name": "Python 3",
   "language": "python",
   "name": "python3"
  },
  "language_info": {
   "codemirror_mode": {
    "name": "ipython",
    "version": 3
   },
   "file_extension": ".py",
   "mimetype": "text/x-python",
   "name": "python",
   "nbconvert_exporter": "python",
   "pygments_lexer": "ipython3",
   "version": "3.7.0"
  }
 },
 "nbformat": 4,
 "nbformat_minor": 2
}

{
 "cells": [
  {
   "cell_type": "code",
   "execution_count": 1,
   "metadata": {},
   "outputs": [
    {
     "name": "stderr",
     "output_type": "stream",
     "text": [
      "C:\\Users\\Namrata\\Anaconda3\\lib\\site-packages\\ipykernel\\parentpoller.py:116: UserWarning: Parent poll failed.  If the frontend dies,\n",
      "                the kernel may be left running.  Please let us know\n",
      "                about your system (bitness, Python, etc.) at\n",
      "                ipython-dev@scipy.org\n",
      "  ipython-dev@scipy.org\"\"\")\n"
     ]
    }
   ],
   "source": [
    "import numpy as np\n",
    "X = np.array(([2, 9], [1, 5], [3, 6]), dtype=float)\n",
    "# Features(Hours Slept, Hours Studied)\n",
    "y = np.array(([92], [86], [89]), dtype=float) # Labels(Marks obtained)\n",
    "X = X/np.amax(X,axis=0) # Normalize\n",
    "y = y/100\n",
    "def sigmoid(x):\n",
    "    return 1/(1 + np.exp(-x))\n",
    "def sigmoid_grad(x):\n",
    "    return x * (1 - x)\n",
    "epoch=1000 #Setting training iterations\n",
    "eta =0.2 #Setting learning rate (eta)\n",
    "input_neurons = 2 #number of features in data set\n",
    "hidden_neurons = 3 #number of hidden layers neurons\n",
    "output_neurons = 1 #number of neurons at output layer\n",
    "# Weight and bias - Random initialization\n",
    "wh=np.random.uniform(size=(input_neurons,hidden_neurons)) # 2x3\n",
    "bh=np.random.uniform(size=(1,hidden_neurons)) # 1x3\n",
    "wout=np.random.uniform(size=(hidden_neurons,output_neurons)) # 1x1\n",
    "bout=np.random.uniform(size=(1,output_neurons))\n",
    "for i in range(epoch):\n",
    "    #Forward Propogation\n",
    "    h_ip=np.dot(X,wh) + bh # Dot product + Bias\n",
    "    h_act = sigmoid(h_ip) # Activation function\n",
    "    o_ip=np.dot(h_act,wout) + bout\n",
    "    output = sigmoid(o_ip)\n",
    "    #Backpropagation\n",
    "    # Error at Output layer\n",
    "    Eo = y-output # Error at o/p\n",
    "    outgrad = sigmoid_grad(output)\n",
    "    d_output = Eo* outgrad # Errj=Oj(1-Oj)(Tj-Oj)\n",
    "    # Error at Hidden layer\n",
    "    Eh = d_output.dot(wout.T) # .T means transpose\n",
    "    hiddengrad = sigmoid_grad(h_act)\n",
    "    # How much hidden layer weights contributed to error\n",
    "    d_hidden = Eh * hiddengrad\n",
    "    wout += h_act.T.dot(d_output) *eta\n",
    "    # Dot product of next layer error and current layer op\n",
    "    wh += X.T.dot(d_hidden) *eta"
   ]
  },
  {
   "cell_type": "code",
   "execution_count": 2,
   "metadata": {},
   "outputs": [
    {
     "name": "stdout",
     "output_type": "stream",
     "text": [
      "Normalized Input: \n",
      "[[0.66666667 1.        ]\n",
      " [0.33333333 0.55555556]\n",
      " [1.         0.66666667]]\n",
      "\n",
      "Actual Output: \n",
      "[[0.92]\n",
      " [0.86]\n",
      " [0.89]]\n",
      "\n",
      "Predicted Output: \n",
      " [[0.89672695]\n",
      " [0.87755766]\n",
      " [0.89503118]]\n"
     ]
    }
   ],
   "source": [
    "print(\"Normalized Input: \\n\" + str(X))\n",
    "print(\"\\nActual Output: \\n\" + str(y))\n",
    "print(\"\\nPredicted Output: \\n\" ,output)"
   ]
  },
  {
   "cell_type": "code",
   "execution_count": null,
   "metadata": {},
   "outputs": [],
   "source": []
  },
  {
   "cell_type": "code",
   "execution_count": null,
   "metadata": {},
   "outputs": [],
   "source": []
  },
  {
   "cell_type": "code",
   "execution_count": null,
   "metadata": {},
   "outputs": [],
   "source": []
  }
 ],
 "metadata": {
  "kernelspec": {
   "display_name": "Python 3",
   "language": "python",
   "name": "python3"
  },
  "language_info": {
   "codemirror_mode": {
    "name": "ipython",
    "version": 3
   },
   "file_extension": ".py",
   "mimetype": "text/x-python",
   "name": "python",
   "nbconvert_exporter": "python",
   "pygments_lexer": "ipython3",
   "version": "3.7.0"
  }
 },
 "nbformat": 4,
 "nbformat_minor": 2
}

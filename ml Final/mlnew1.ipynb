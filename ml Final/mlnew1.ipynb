{
 "cells": [
  {
   "cell_type": "code",
   "execution_count": 3,
   "metadata": {},
   "outputs": [
    {
     "name": "stdout",
     "output_type": "stream",
     "text": [
      "\n",
      "The given training examples are:\n",
      "['Sky', 'Airtemp', 'Humidity', 'Wind', 'Water', 'Forecast', 'WaterSport']\n",
      "['Sunny', 'Warm', 'Normal', 'Strong', 'Warm', 'Same', 'Yes']\n",
      "['Sunny', 'Warm', 'High', 'Strong', 'Warm', 'Same', 'Yes']\n",
      "['Cloudy', 'Cold', 'High', 'Strong', 'Warm', 'Change', 'No']\n",
      "['Sunny', 'Warm', 'High', 'Strong', 'Cool', 'Change', 'Yes']\n",
      "\n",
      "The positive examples are: playing sports\n",
      "['Sunny', 'Warm', 'Normal', 'Strong', 'Warm', 'Same', 'Yes']\n",
      "['Sunny', 'Warm', 'High', 'Strong', 'Warm', 'Same', 'Yes']\n",
      "['Sunny', 'Warm', 'High', 'Strong', 'Cool', 'Change', 'Yes']\n",
      "\n",
      "The maximally specific Find-s hypothesis for the given training examples is\n",
      "['Sunny', 'Warm', '?', 'Strong', '?', '?', 'Yes']\n"
     ]
    }
   ],
   "source": [
    "import csv\n",
    "hypo=[]\n",
    "data=[]\n",
    "with open('SP.csv') as csv_file:\n",
    "\tfd = csv.reader(csv_file)\t\n",
    "\tprint(\"\\nThe given training examples are:\")\t\n",
    "\tfor line in fd:\t\t\n",
    "\t\tprint(line)\t\t\n",
    "\t\tif line[-1]== \"Yes\":\n",
    "\t\t\tdata.append(line)\n",
    "print(\"\\nThe positive examples are: playing sports\");\n",
    "for x in data:\n",
    "\tprint(x);\n",
    "row= len(data);\n",
    "col=len(data[0]);\n",
    "for j in range(col):\t\n",
    "\thypo.append(data[0][j]);\n",
    "\n",
    "for i in range(row):\t\n",
    "\tfor j in range(col):\n",
    "\t\tif hypo[j]!=data[i][j]:\n",
    "\t\t\thypo[j]='?'\n",
    "\t\t\t\n",
    "print(\"\\nThe maximally specific Find-s hypothesis for the given training examples is\");\n",
    "print(hypo)"
   ]
  },
  {
   "cell_type": "code",
   "execution_count": null,
   "metadata": {},
   "outputs": [],
   "source": []
  }
 ],
 "metadata": {
  "kernelspec": {
   "display_name": "Python 3",
   "language": "python",
   "name": "python3"
  },
  "language_info": {
   "codemirror_mode": {
    "name": "ipython",
    "version": 3
   },
   "file_extension": ".py",
   "mimetype": "text/x-python",
   "name": "python",
   "nbconvert_exporter": "python",
   "pygments_lexer": "ipython3",
   "version": "3.7.0"
  }
 },
 "nbformat": 4,
 "nbformat_minor": 2
}

{
 "cells": [
  {
   "cell_type": "code",
   "execution_count": 1,
   "metadata": {},
   "outputs": [
    {
     "name": "stdout",
     "output_type": "stream",
     "text": [
      "0.24\n",
      "0.3333333333333333\n",
      "[[ 0 50  0]\n",
      " [45  0  5]\n",
      " [ 0  0 50]]\n"
     ]
    }
   ],
   "source": [
    "import matplotlib.pyplot as plt\n",
    "from sklearn.datasets import load_iris\n",
    "iris = load_iris()\n",
    "import pandas as pd\n",
    "X = pd.DataFrame(iris.data)\n",
    "y = pd.DataFrame(iris.target)\n",
    "import numpy as np\n",
    "colormap = np.array(['red', 'lime', 'black'])\n",
    "plt.figure(figsize=(14,7))\n",
    "from sklearn.cluster import KMeans\n",
    "model = KMeans(n_clusters=3)\n",
    "model.fit(X)\n",
    "plt.subplot(1, 2, 2)\n",
    "plt.scatter(X[2],X[3], c=colormap[model.labels_])\n",
    "plt.title('K Mean Classification')\n",
    "import sklearn.metrics as sm\n",
    "print(sm.accuracy_score(y, model.labels_))\n",
    "from sklearn.mixture import GaussianMixture\n",
    "gmm = GaussianMixture(n_components=3)\n",
    "gmm.fit(X)\n",
    "y_cluster_gmm=gmm.predict(X)\n",
    "plt.subplot(1, 2, 1)\n",
    "plt.scatter(X[2],X[3], c=colormap[y_cluster_gmm])\n",
    "plt.title('GMM Classification')\n",
    "print(sm.accuracy_score(y, y_cluster_gmm))\n",
    "print(sm.confusion_matrix(y, y_cluster_gmm))"
   ]
  },
  {
   "cell_type": "code",
   "execution_count": null,
   "metadata": {},
   "outputs": [],
   "source": []
  }
 ],
 "metadata": {
  "kernelspec": {
   "display_name": "Python 3",
   "language": "python",
   "name": "python3"
  },
  "language_info": {
   "codemirror_mode": {
    "name": "ipython",
    "version": 3
   },
   "file_extension": ".py",
   "mimetype": "text/x-python",
   "name": "python",
   "nbconvert_exporter": "python",
   "pygments_lexer": "ipython3",
   "version": "3.7.0"
  }
 },
 "nbformat": 4,
 "nbformat_minor": 2
}

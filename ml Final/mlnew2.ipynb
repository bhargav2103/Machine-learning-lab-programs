{
 "cells": [
  {
   "cell_type": "code",
   "execution_count": 1,
   "metadata": {},
   "outputs": [
    {
     "name": "stdout",
     "output_type": "stream",
     "text": [
      "\n",
      "The given training examples are:\n",
      "['Sky', 'Airtemp', 'Humidity', 'Wind', 'Water', 'Forecast', 'WaterSport']\n",
      "['Sunny', 'Warm', 'Normal', 'Strong', 'Warm', 'Same', 'Yes']\n",
      "['Sunny', 'Warm', 'High', 'Strong', 'Warm', 'Same', 'Yes']\n",
      "['Cloudy', 'Cold', 'High', 'Strong', 'Warm', 'Change', 'No']\n",
      "['Sunny', 'Warm', 'High', 'Strong', 'Cool', 'Change', 'Yes']\n",
      "\n",
      "The positive examples are: Enjoy sport\n",
      "['Sunny', 'Warm', 'Normal', 'Strong', 'Warm', 'Same', 'Yes']\n",
      "['Sunny', 'Warm', 'High', 'Strong', 'Warm', 'Same', 'Yes']\n",
      "['Sunny', 'Warm', 'High', 'Strong', 'Cool', 'Change', 'Yes']\n",
      "\n",
      "The final specific output......................\n",
      "['Sunny', 'Warm', '?', 'Strong', '?', '?']\n",
      "\n",
      "The final Genralize output..................\n",
      "['Sunny', '?', '?', '?', '?', '?']\n",
      "['?', 'Warm', '?', '?', '?', '?']\n",
      "['?', '?', '?', '?', '?', '?']\n"
     ]
    }
   ],
   "source": [
    "import csv\n",
    "hypo=[]\n",
    "data=[]\n",
    "temp=[]\n",
    "gen=['?','?','?','?','?','?']\n",
    "sef=[]\n",
    "with open('SP.csv') as csv_file:\n",
    "\tfd = csv.reader(csv_file)\t\n",
    "\tprint(\"\\nThe given training examples are:\")\t\n",
    "\tfor line in fd:\t\t\n",
    "\t\tprint(line)\n",
    "\t\ttemp.append(line)\n",
    "\t\tif line[-1]== \"Yes\":\n",
    "\t\t    data.append(line)\n",
    "print(\"\\nThe positive examples are: Enjoy sport\");\n",
    "for line in data:\n",
    "\tprint(line);\n",
    "row= len(data);\n",
    "col=len(data[0]);\n",
    "print(\"\\nThe final specific output......................\");\n",
    "for j in range(col-1):\t\n",
    "\thypo.append(data[0][j]);\n",
    "\n",
    "for i in range(row):\t\n",
    "\tfor j in range(col-1):\t      \n",
    "            if (hypo[j]!=data[i][j]):\n",
    "                            hypo[j]='?'\t\t\t\n",
    "\t\n",
    "print(hypo)\t\t\t\n",
    "print(\"\\nThe final Genralize output..................\");\n",
    "row=len(temp)\n",
    "col=len(temp)\n",
    "for i in range(row):\n",
    "    if temp[i][-1]==\"No\":      \n",
    "        for j in range(col-1):\n",
    "            if temp[i][j] !=hypo[j]:\n",
    "                gen[j]=hypo[j]\n",
    "                print(gen)\n",
    "                gen[j]='?'\n"
   ]
  },
  {
   "cell_type": "code",
   "execution_count": null,
   "metadata": {},
   "outputs": [],
   "source": []
  },
  {
   "cell_type": "code",
   "execution_count": null,
   "metadata": {},
   "outputs": [],
   "source": []
  },
  {
   "cell_type": "code",
   "execution_count": null,
   "metadata": {},
   "outputs": [],
   "source": []
  }
 ],
 "metadata": {
  "kernelspec": {
   "display_name": "Python 3",
   "language": "python",
   "name": "python3"
  },
  "language_info": {
   "codemirror_mode": {
    "name": "ipython",
    "version": 3
   },
   "file_extension": ".py",
   "mimetype": "text/x-python",
   "name": "python",
   "nbconvert_exporter": "python",
   "pygments_lexer": "ipython3",
   "version": "3.7.0"
  }
 },
 "nbformat": 4,
 "nbformat_minor": 2
}

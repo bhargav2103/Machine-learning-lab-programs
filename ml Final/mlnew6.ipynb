{
 "cells": [
  {
   "cell_type": "code",
   "execution_count": 5,
   "metadata": {},
   "outputs": [],
   "source": [
    "#Load data\n",
    "import pandas as pd\n",
    "import numpy as np\n",
    "news_df = pd.read_csv(\"news.csv\",sep=\",\")"
   ]
  },
  {
   "cell_type": "code",
   "execution_count": 6,
   "metadata": {},
   "outputs": [
    {
     "data": {
      "text/html": [
       "<div>\n",
       "<style scoped>\n",
       "    .dataframe tbody tr th:only-of-type {\n",
       "        vertical-align: middle;\n",
       "    }\n",
       "\n",
       "    .dataframe tbody tr th {\n",
       "        vertical-align: top;\n",
       "    }\n",
       "\n",
       "    .dataframe thead th {\n",
       "        text-align: right;\n",
       "    }\n",
       "</style>\n",
       "<table border=\"1\" class=\"dataframe\">\n",
       "  <thead>\n",
       "    <tr style=\"text-align: right;\">\n",
       "      <th></th>\n",
       "      <th>ID</th>\n",
       "      <th>TITLE</th>\n",
       "      <th>URL</th>\n",
       "      <th>PUBLISHER</th>\n",
       "      <th>CATEGORY</th>\n",
       "      <th>STORY</th>\n",
       "      <th>HOSTNAME</th>\n",
       "      <th>TIMESTAMP</th>\n",
       "      <th>Unnamed: 8</th>\n",
       "    </tr>\n",
       "  </thead>\n",
       "  <tbody>\n",
       "    <tr>\n",
       "      <th>422413</th>\n",
       "      <td>422932</td>\n",
       "      <td>Cincinnati Children's surgeons to rebuild thro...</td>\n",
       "      <td>http://www.wsmv.com/story/26378648/surgeons-re...</td>\n",
       "      <td>WSMV Nashville</td>\n",
       "      <td>4</td>\n",
       "      <td>dpcLMoJD69UYMXMxaoEFnWql9YjQM</td>\n",
       "      <td>www.wsmv.com</td>\n",
       "      <td>1409229189743</td>\n",
       "      <td></td>\n",
       "    </tr>\n",
       "    <tr>\n",
       "      <th>422414</th>\n",
       "      <td>422933</td>\n",
       "      <td>Surgeons to remove 4-year-old's rib to rebuild...</td>\n",
       "      <td>http://www.cbs3springfield.com/story/26378648/...</td>\n",
       "      <td>WSHM-TV</td>\n",
       "      <td>4</td>\n",
       "      <td>dpcLMoJD69UYMXMxaoEFnWql9YjQM</td>\n",
       "      <td>www.cbs3springfield.com</td>\n",
       "      <td>1409229190251</td>\n",
       "      <td></td>\n",
       "    </tr>\n",
       "    <tr>\n",
       "      <th>422415</th>\n",
       "      <td>422934</td>\n",
       "      <td>Boy to have surgery on esophagus after battery...</td>\n",
       "      <td>http://www.wlwt.com/news/boy-to-have-surgery-o...</td>\n",
       "      <td>WLWT Cincinnati</td>\n",
       "      <td>4</td>\n",
       "      <td>dpcLMoJD69UYMXMxaoEFnWql9YjQM</td>\n",
       "      <td>www.wlwt.com</td>\n",
       "      <td>1409229190508</td>\n",
       "      <td></td>\n",
       "    </tr>\n",
       "    <tr>\n",
       "      <th>422416</th>\n",
       "      <td>422935</td>\n",
       "      <td>Child who swallowed battery to have reconstruc...</td>\n",
       "      <td>http://www.newsnet5.com/news/local-news/child-...</td>\n",
       "      <td>NewsNet5.com</td>\n",
       "      <td>4</td>\n",
       "      <td>dpcLMoJD69UYMXMxaoEFnWql9YjQM</td>\n",
       "      <td>www.newsnet5.com</td>\n",
       "      <td>1409229190771</td>\n",
       "      <td></td>\n",
       "    </tr>\n",
       "    <tr>\n",
       "      <th>422417</th>\n",
       "      <td>422936</td>\n",
       "      <td>Phoenix boy undergoes surgery to repair throat...</td>\n",
       "      <td>http://www.wfsb.com/story/26368078/phoenix-boy...</td>\n",
       "      <td>WFSB</td>\n",
       "      <td>4</td>\n",
       "      <td>dpcLMoJD69UYMXMxaoEFnWql9YjQM</td>\n",
       "      <td>www.wfsb.com</td>\n",
       "      <td>1409229191071</td>\n",
       "      <td></td>\n",
       "    </tr>\n",
       "    <tr>\n",
       "      <th>422418</th>\n",
       "      <td>422937</td>\n",
       "      <td>Phoenix boy undergoes surgery to repair throat...</td>\n",
       "      <td>http://www.cbs3springfield.com/story/26368078/...</td>\n",
       "      <td>WSHM-TV</td>\n",
       "      <td>4</td>\n",
       "      <td>dpcLMoJD69UYMXMxaoEFnWql9YjQM</td>\n",
       "      <td>www.cbs3springfield.com</td>\n",
       "      <td>1409229191565</td>\n",
       "      <td></td>\n",
       "    </tr>\n",
       "  </tbody>\n",
       "</table>\n",
       "</div>"
      ],
      "text/plain": [
       "            ID                                              TITLE  \\\n",
       "422413  422932  Cincinnati Children's surgeons to rebuild thro...   \n",
       "422414  422933  Surgeons to remove 4-year-old's rib to rebuild...   \n",
       "422415  422934  Boy to have surgery on esophagus after battery...   \n",
       "422416  422935  Child who swallowed battery to have reconstruc...   \n",
       "422417  422936  Phoenix boy undergoes surgery to repair throat...   \n",
       "422418  422937  Phoenix boy undergoes surgery to repair throat...   \n",
       "\n",
       "                                                      URL        PUBLISHER  \\\n",
       "422413  http://www.wsmv.com/story/26378648/surgeons-re...   WSMV Nashville   \n",
       "422414  http://www.cbs3springfield.com/story/26378648/...          WSHM-TV   \n",
       "422415  http://www.wlwt.com/news/boy-to-have-surgery-o...  WLWT Cincinnati   \n",
       "422416  http://www.newsnet5.com/news/local-news/child-...     NewsNet5.com   \n",
       "422417  http://www.wfsb.com/story/26368078/phoenix-boy...             WFSB   \n",
       "422418  http://www.cbs3springfield.com/story/26368078/...          WSHM-TV   \n",
       "\n",
       "        CATEGORY                          STORY                 HOSTNAME  \\\n",
       "422413         4  dpcLMoJD69UYMXMxaoEFnWql9YjQM             www.wsmv.com   \n",
       "422414         4  dpcLMoJD69UYMXMxaoEFnWql9YjQM  www.cbs3springfield.com   \n",
       "422415         4  dpcLMoJD69UYMXMxaoEFnWql9YjQM             www.wlwt.com   \n",
       "422416         4  dpcLMoJD69UYMXMxaoEFnWql9YjQM         www.newsnet5.com   \n",
       "422417         4  dpcLMoJD69UYMXMxaoEFnWql9YjQM             www.wfsb.com   \n",
       "422418         4  dpcLMoJD69UYMXMxaoEFnWql9YjQM  www.cbs3springfield.com   \n",
       "\n",
       "            TIMESTAMP Unnamed: 8  \n",
       "422413  1409229189743             \n",
       "422414  1409229190251             \n",
       "422415  1409229190508             \n",
       "422416  1409229190771             \n",
       "422417  1409229191071             \n",
       "422418  1409229191565             "
      ]
     },
     "execution_count": 6,
     "metadata": {},
     "output_type": "execute_result"
    }
   ],
   "source": [
    "#Preprocess data\n",
    "import string\n",
    "news_df['CATEGORY'] = news_df.CATEGORY.map({ 'b': 1, 't': 2, 'e': 3, 'm': 4 })\n",
    "#news_df['TITLE'] = news_df.TITLE.map(str.maketrans('','', string.punctuation))\n",
    "news_df= news_df.replace(np.nan, '', regex=True)\n",
    "news_df.tail(6)"
   ]
  },
  {
   "cell_type": "code",
   "execution_count": 7,
   "metadata": {},
   "outputs": [
    {
     "name": "stdout",
     "output_type": "stream",
     "text": [
      "Training dataset:  316814\n",
      "Test dataset:  105605\n"
     ]
    }
   ],
   "source": [
    "#Split into train and test data sets\n",
    "from sklearn.model_selection import train_test_split\n",
    "\n",
    "X_train, X_test, y_train, y_test = train_test_split(news_df['TITLE'],news_df['CATEGORY'],random_state = 1)\n",
    "\n",
    "print(\"Training dataset: \", X_train.shape[0])\n",
    "print(\"Test dataset: \", X_test.shape[0])"
   ]
  },
  {
   "cell_type": "code",
   "execution_count": 8,
   "metadata": {},
   "outputs": [],
   "source": [
    "#Extract features\n",
    "from sklearn.feature_extraction.text import CountVectorizer\n",
    "\n",
    "count_vector = CountVectorizer(stop_words = \"english\")\n",
    "training_data = count_vector.fit_transform(X_train)\n",
    "testing_data = count_vector.transform(X_test)"
   ]
  },
  {
   "cell_type": "code",
   "execution_count": 9,
   "metadata": {},
   "outputs": [
    {
     "data": {
      "text/plain": [
       "MultinomialNB(alpha=1.0, class_prior=None, fit_prior=True)"
      ]
     },
     "execution_count": 9,
     "metadata": {},
     "output_type": "execute_result"
    }
   ],
   "source": [
    "#Train Multinomial Naive Bayes classifier\n",
    "from sklearn.naive_bayes import MultinomialNB\n",
    "naive_bayes = MultinomialNB()\n",
    "naive_bayes.fit(training_data, y_train)"
   ]
  },
  {
   "cell_type": "code",
   "execution_count": 10,
   "metadata": {},
   "outputs": [
    {
     "data": {
      "text/plain": [
       "array([1, 1, 3, ..., 1, 1, 4], dtype=int64)"
      ]
     },
     "execution_count": 10,
     "metadata": {},
     "output_type": "execute_result"
    }
   ],
   "source": [
    "#Generate predictions\n",
    "predictions = naive_bayes.predict(testing_data)\n",
    "predictions"
   ]
  },
  {
   "cell_type": "code",
   "execution_count": 11,
   "metadata": {},
   "outputs": [
    {
     "name": "stdout",
     "output_type": "stream",
     "text": [
      "Accuracy Score: 0.9283367264807537\n",
      "Precision Score: 0.9284613017362449\n",
      " Recall Score: 0.9283367264807537\n",
      " F1 Score: 0.9283906293365066\n"
     ]
    }
   ],
   "source": [
    "from sklearn.metrics import accuracy_score,precision_score, recall_score,f1_score\n",
    "print(\"Accuracy Score:\",accuracy_score(y_test, predictions) )\n",
    "print(\"Precision Score:\",precision_score(y_test, predictions,average=\"weighted\") )\n",
    "print(\" Recall Score:\", recall_score(y_test, predictions,average=\"weighted\") )\n",
    "print(\" F1 Score:\",f1_score(y_test, predictions,average=\"weighted\") )"
   ]
  },
  {
   "cell_type": "code",
   "execution_count": 12,
   "metadata": {},
   "outputs": [
    {
     "name": "stdout",
     "output_type": "stream",
     "text": [
      "Accuracy: 0.9283367264807537\n"
     ]
    }
   ],
   "source": [
    "from sklearn.metrics import accuracy_score\n",
    "print(\"Accuracy:\", accuracy_score(y_test, predictions))"
   ]
  },
  {
   "cell_type": "code",
   "execution_count": 14,
   "metadata": {},
   "outputs": [
    {
     "name": "stdout",
     "output_type": "stream",
     "text": [
      "              precision    recall  f1-score   support\n",
      "\n",
      "           1       0.91      0.91      0.91     29028\n",
      "           2       0.90      0.91      0.90     27174\n",
      "           3       0.97      0.96      0.96     38082\n",
      "           4       0.92      0.92      0.92     11321\n",
      "\n",
      "   micro avg       0.93      0.93      0.93    105605\n",
      "   macro avg       0.92      0.92      0.92    105605\n",
      "weighted avg       0.93      0.93      0.93    105605\n",
      "\n"
     ]
    }
   ],
   "source": [
    "from sklearn.metrics import classification_report\n",
    "print(classification_report(y_test, predictions))"
   ]
  },
  {
   "cell_type": "code",
   "execution_count": 13,
   "metadata": {},
   "outputs": [
    {
     "name": "stdout",
     "output_type": "stream",
     "text": [
      "confusion matrix is \n",
      " [[26306  1842   478   402]\n",
      " [ 1733 24703   496   242]\n",
      " [  547   717 36607   211]\n",
      " [  389   187   324 10421]]\n"
     ]
    }
   ],
   "source": [
    "from sklearn.metrics import confusion_matrix\n",
    "print(\"confusion matrix is \\n\", confusion_matrix(y_test,predictions))"
   ]
  },
  {
   "cell_type": "code",
   "execution_count": null,
   "metadata": {},
   "outputs": [],
   "source": []
  }
 ],
 "metadata": {
  "kernelspec": {
   "display_name": "Python 3",
   "language": "python",
   "name": "python3"
  },
  "language_info": {
   "codemirror_mode": {
    "name": "ipython",
    "version": 3
   },
   "file_extension": ".py",
   "mimetype": "text/x-python",
   "name": "python",
   "nbconvert_exporter": "python",
   "pygments_lexer": "ipython3",
   "version": "3.7.0"
  }
 },
 "nbformat": 4,
 "nbformat_minor": 2
}
